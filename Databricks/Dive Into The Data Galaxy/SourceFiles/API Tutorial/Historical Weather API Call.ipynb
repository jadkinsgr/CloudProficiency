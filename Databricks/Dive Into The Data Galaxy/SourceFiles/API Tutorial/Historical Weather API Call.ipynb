{
 "cells": [
  {
   "cell_type": "code",
   "execution_count": 0,
   "metadata": {
    "application/vnd.databricks.v1+cell": {
     "cellMetadata": {
      "byteLimit": 2048000,
      "rowLimit": 10000
     },
     "inputWidgets": {},
     "nuid": "ab312d5d-77ed-4f93-8a0f-54c5d055ea60",
     "showTitle": false,
     "title": ""
    }
   },
   "outputs": [],
   "source": [
    "import requests\n",
    "from pyspark.sql import SparkSession\n",
    "from pyspark.sql.types import StructType, StructField, StringType, FloatType, IntegerType\n",
    "##API Documentation##\n",
    "#https://openweathermap.org/api/one-call-3#data\n"
   ]
  },
  {
   "cell_type": "code",
   "execution_count": 0,
   "metadata": {
    "application/vnd.databricks.v1+cell": {
     "cellMetadata": {
      "byteLimit": 2048000,
      "rowLimit": 10000
     },
     "inputWidgets": {},
     "nuid": "7594f5a1-dbaf-4b26-8c90-2ed838207f20",
     "showTitle": false,
     "title": ""
    }
   },
   "outputs": [],
   "source": [
    "kv = \"AdkinsOpenWeatherAPI\"\n",
    "api_key = dbutils.secrets.get(scope = kv, key =\"AdkinsOpenWeatherAPIKey\")\n",
    "print(api_key)\n"
   ]
  },
  {
   "cell_type": "code",
   "execution_count": 0,
   "metadata": {
    "application/vnd.databricks.v1+cell": {
     "cellMetadata": {
      "byteLimit": 2048000,
      "rowLimit": 10000
     },
     "inputWidgets": {},
     "nuid": "cfd319b0-474a-4f12-a34a-7e2958665194",
     "showTitle": false,
     "title": ""
    }
   },
   "outputs": [],
   "source": [
    "# List of cities for which we want to get the weather data\n",
    "cities = [\n",
    "    \"Grand Rapids,MI,US\", \n",
    "    \"Charleston,SC,US\", \n",
    "    \"Chicago,IL,US\", \n",
    "    \"Johnson City,TN,US\", \n",
    "    \"New Orleans,LA,US\", \n",
    "    \"Asheville,SC,US\"\n",
    "]"
   ]
  },
  {
   "cell_type": "code",
   "execution_count": 0,
   "metadata": {
    "application/vnd.databricks.v1+cell": {
     "cellMetadata": {
      "byteLimit": 2048000,
      "rowLimit": 10000
     },
     "inputWidgets": {},
     "nuid": "29aac988-28fa-48ec-9884-a001f0797822",
     "showTitle": false,
     "title": ""
    }
   },
   "outputs": [],
   "source": [
    "# Define the schema for the Spark DataFrame\n",
    "schema = StructType([\n",
    "    StructField(\"city\", StringType(), True),\n",
    "    StructField(\"temperature\", FloatType(), True),  # Temperature in Fahrenheit (imperial units)\n",
    "    StructField(\"humidity\", IntegerType(), True),\n",
    "    StructField(\"weather\", StringType(), True)\n",
    "])"
   ]
  },
  {
   "cell_type": "code",
   "execution_count": 0,
   "metadata": {
    "application/vnd.databricks.v1+cell": {
     "cellMetadata": {
      "byteLimit": 2048000,
      "rowLimit": 10000
     },
     "inputWidgets": {},
     "nuid": "86e4edb5-723f-48da-9bf5-94492ae1b06f",
     "showTitle": false,
     "title": ""
    }
   },
   "outputs": [],
   "source": [
    "# Initialize an empty list to hold the data for each city\n",
    "all_city_data = []"
   ]
  },
  {
   "cell_type": "code",
   "execution_count": 0,
   "metadata": {
    "application/vnd.databricks.v1+cell": {
     "cellMetadata": {
      "byteLimit": 2048000,
      "rowLimit": 10000
     },
     "inputWidgets": {},
     "nuid": "89a7750e-a276-460d-97c6-3fb7a34c87e3",
     "showTitle": false,
     "title": ""
    }
   },
   "outputs": [],
   "source": [
    "# Loop through each city and make the API request\n",
    "for city in cities:\n",
    "    # Construct the API URL with units set to 'imperial'\n",
    "    url = f\"http://api.openweathermap.org/data/2.5/weather?q={city}&units=imperial&appid={api_key}\"\n",
    "    \n",
    "    # Make the API call and extract the data\n",
    "    response = requests.get(url)\n",
    "    data = response.json()\n",
    "    #print(data) #Debug!\n",
    "    # Extract fields from the JSON response and add them to the list\n",
    "    city_data = (\n",
    "        data.get(\"name\"),  # City name\n",
    "        data[\"main\"].get(\"temp\"),  # Temperature in Fahrenheit\n",
    "        data[\"main\"].get(\"humidity\"),  # Humidity\n",
    "        data[\"weather\"][0].get(\"description\")  # Weather description\n",
    "    )\n",
    "    \n",
    "    all_city_data.append(city_data)\n",
    "\n",
    "# Create a Spark DataFrame using the collected data and schema\n",
    "weather_df = spark.createDataFrame(all_city_data, schema)\n",
    "\n",
    "# Show the Spark DataFrame with weather data for all cities\n",
    "weather_df.show()"
   ]
  },
  {
   "cell_type": "code",
   "execution_count": 0,
   "metadata": {
    "application/vnd.databricks.v1+cell": {
     "cellMetadata": {
      "byteLimit": 2048000,
      "rowLimit": 10000
     },
     "inputWidgets": {},
     "nuid": "9dc1f6dc-c4b1-4717-b421-6c5b34a96bba",
     "showTitle": false,
     "title": ""
    }
   },
   "outputs": [],
   "source": [
    "from pyspark.sql.functions import current_timestamp\n",
    "\n",
    "weather_df = weather_df.withColumn(\"request_time\", current_timestamp())\n",
    "weather_df.write.format(\"delta\").mode(\"append\").saveAsTable(\"weather.conditions.historical_weather\")"
   ]
  },
  {
   "cell_type": "code",
   "execution_count": 0,
   "metadata": {
    "application/vnd.databricks.v1+cell": {
     "cellMetadata": {
      "byteLimit": 2048000,
      "implicitDf": true,
      "rowLimit": 10000
     },
     "inputWidgets": {},
     "nuid": "4251fcad-50a7-4b3f-804f-431bff726789",
     "showTitle": false,
     "title": ""
    }
   },
   "outputs": [
    {
     "output_type": "display_data",
     "data": {
      "text/plain": [
       "Databricks visualization. Run in Databricks to view."
      ]
     },
     "metadata": {
      "application/vnd.databricks.v1.subcommand+json": {
       "baseErrorDetails": null,
       "bindings": {},
       "collapsed": false,
       "command": "%sql WITH q AS (Select cast(request_time as date),* from weather.conditions.historical_weather order by request_time desc, city asc) SELECT DATE_TRUNC('DAY',`request_time`) `column_d3a6a5e610`,AVG(`temperature`) `column_d3a6a5e66`,`city` FROM q GROUP BY `city`,`column_d3a6a5e610`",
       "commandTitle": "Visualization 1",
       "commandType": "auto",
       "commandVersion": 0,
       "commentThread": [],
       "commentsVisible": false,
       "contentSha256Hex": null,
       "customPlotOptions": {
        "redashChart": [
         {
          "key": "type",
          "value": "CHART"
         },
         {
          "key": "options",
          "value": {
           "alignYAxesAtZero": true,
           "coefficient": 1,
           "columnConfigurationMap": {
            "series": {
             "column": "city",
             "id": "column_d3a6a5e64"
            },
            "x": {
             "column": "request_time",
             "id": "column_d3a6a5e610",
             "transform": "DAY_LEVEL"
            },
            "y": [
             {
              "column": "temperature",
              "id": "column_d3a6a5e66",
              "transform": "AVG"
             }
            ]
           },
           "dateTimeFormat": "DD/MM/YYYY HH:mm",
           "direction": {
            "type": "counterclockwise"
           },
           "error_y": {
            "type": "data",
            "visible": true
           },
           "globalSeriesType": "line",
           "isAggregationOn": true,
           "legend": {
            "traceorder": "normal"
           },
           "missingValuesAsZero": true,
           "numberFormat": "0,0.[00000]",
           "percentFormat": "0[.]00%",
           "series": {
            "error_y": {
             "type": "data",
             "visible": true
            },
            "stacking": null
           },
           "seriesOptions": {
            "column_d3a6a5e66": {
             "type": "line",
             "yAxis": 0
            }
           },
           "showDataLabels": true,
           "sizemode": "diameter",
           "sortX": true,
           "sortY": true,
           "swappedAxes": false,
           "textFormat": "",
           "useAggregationsUi": true,
           "valuesOptions": {},
           "version": 2,
           "xAxis": {
            "labels": {
             "enabled": true
            },
            "type": "-"
           },
           "yAxis": [
            {
             "type": "-"
            },
            {
             "opposite": true,
             "type": "-"
            }
           ]
          }
         }
        ]
       },
       "datasetPreviewNameToCmdIdMap": {},
       "diffDeletes": [],
       "diffInserts": [],
       "displayType": "redashChart",
       "error": null,
       "errorDetails": null,
       "errorSummary": null,
       "errorTraceType": null,
       "finishTime": 0,
       "globalVars": {},
       "guid": "",
       "height": "auto",
       "hideCommandCode": false,
       "hideCommandResult": false,
       "iPythonMetadata": null,
       "inputWidgets": {},
       "isLockedInExamMode": false,
       "latestUser": "a user",
       "latestUserId": null,
       "listResultMetadata": null,
       "metadata": {
        "byteLimit": 2048000,
        "implicitDf": true,
        "rowLimit": 10000
       },
       "nuid": "e3a08bdd-7f11-4967-b9ad-38ea1641f158",
       "origId": 0,
       "parentHierarchy": [],
       "pivotAggregation": null,
       "pivotColumns": null,
       "position": 10.0,
       "resultDbfsErrorMessage": null,
       "resultDbfsStatus": "INLINED_IN_TREE",
       "results": null,
       "showCommandTitle": false,
       "startTime": 0,
       "state": "input",
       "streamStates": {},
       "subcommandOptions": {
        "queryPlan": {
         "groups": [
          {
           "column": "column_d3a6a5e610",
           "type": "column"
          },
          {
           "column": "city",
           "type": "column"
          }
         ],
         "selects": [
          {
           "alias": "column_d3a6a5e610",
           "args": [
            {
             "column": "request_time",
             "type": "column"
            },
            {
             "string": "DAY",
             "type": "string"
            }
           ],
           "function": "DATE_TRUNC",
           "type": "function"
          },
          {
           "alias": "column_d3a6a5e66",
           "args": [
            {
             "column": "temperature",
             "type": "column"
            }
           ],
           "function": "AVG",
           "type": "function"
          },
          {
           "column": "city",
           "type": "column"
          }
         ]
        }
       },
       "submitTime": 0,
       "subtype": "tableResultSubCmd.visualization",
       "tableResultIndex": 0,
       "tableResultSettingsMap": null,
       "useConsistentColors": false,
       "version": "CommandV1",
       "width": "auto",
       "workflows": null,
       "xColumns": null,
       "yColumns": null
      }
     },
     "output_type": "display_data"
    }
   ],
   "source": [
    "%sql\n",
    "Select cast(request_time as date),* from weather.conditions.historical_weather order by request_time desc, city asc"
   ]
  },
  {
   "cell_type": "code",
   "execution_count": 0,
   "metadata": {
    "application/vnd.databricks.v1+cell": {
     "cellMetadata": {
      "byteLimit": 2048000,
      "implicitDf": true,
      "rowLimit": 10000
     },
     "inputWidgets": {},
     "nuid": "549b3137-884b-4d2b-83d8-c17277d199fb",
     "showTitle": false,
     "title": ""
    }
   },
   "outputs": [],
   "source": [
    "%sql\n",
    "Select * from weather.conditions.weather_data order by city asc"
   ]
  }
 ],
 "metadata": {
  "application/vnd.databricks.v1+notebook": {
   "dashboards": [],
   "environmentMetadata": null,
   "language": "python",
   "notebookMetadata": {
    "mostRecentlyExecutedCommandWithImplicitDF": {
     "commandId": 4067474131901298,
     "dataframes": [
      "_sqldf"
     ]
    },
    "pythonIndentUnit": 4
   },
   "notebookName": "Historical Weather API Call",
   "widgets": {}
  },
  "language_info": {
   "name": "python"
  }
 },
 "nbformat": 4,
 "nbformat_minor": 0
}
